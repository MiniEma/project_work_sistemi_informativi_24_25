import pandas as pd

df = pd.read_csv("../data/Real_estate_valuation_data_set.xlsx")